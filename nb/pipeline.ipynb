{
 "cells": [
  {
   "cell_type": "code",
   "execution_count": 1,
   "id": "ac96963f-f4f0-4964-9ef9-f47c15d3c545",
   "metadata": {},
   "outputs": [
    {
     "ename": "ModuleNotFoundError",
     "evalue": "No module named 'tensorflow'",
     "output_type": "error",
     "traceback": [
      "\u001b[0;31m---------------------------------------------------------------------------\u001b[0m",
      "\u001b[0;31mModuleNotFoundError\u001b[0m                       Traceback (most recent call last)",
      "Cell \u001b[0;32mIn[1], line 2\u001b[0m\n\u001b[1;32m      1\u001b[0m \u001b[38;5;28;01mimport\u001b[39;00m \u001b[38;5;21;01mnumpy\u001b[39;00m \u001b[38;5;28;01mas\u001b[39;00m \u001b[38;5;21;01mnp\u001b[39;00m\n\u001b[0;32m----> 2\u001b[0m \u001b[38;5;28;01mimport\u001b[39;00m \u001b[38;5;21;01mtensorflow\u001b[39;00m \u001b[38;5;28;01mas\u001b[39;00m \u001b[38;5;21;01mtf\u001b[39;00m\n\u001b[1;32m      3\u001b[0m \u001b[38;5;28;01mfrom\u001b[39;00m \u001b[38;5;21;01mtensorflow\u001b[39;00m\u001b[38;5;21;01m.\u001b[39;00m\u001b[38;5;21;01mkeras\u001b[39;00m\u001b[38;5;21;01m.\u001b[39;00m\u001b[38;5;21;01moptimizers\u001b[39;00m \u001b[38;5;28;01mimport\u001b[39;00m Adam\n\u001b[1;32m      4\u001b[0m \u001b[38;5;28;01mfrom\u001b[39;00m \u001b[38;5;21;01mPIL\u001b[39;00m \u001b[38;5;28;01mimport\u001b[39;00m Image\n",
      "\u001b[0;31mModuleNotFoundError\u001b[0m: No module named 'tensorflow'"
     ]
    }
   ],
   "source": [
    "import numpy as np\n",
    "import tensorflow as tf\n",
    "from tensorflow.keras.optimizers import Adam\n",
    "from PIL import Image\n",
    "\n",
    "import tf_utils as utils\n",
    "\n",
    "WEIGHTS_PATH_NEG = './facial_expression_recognition/pipeline_logs/neg/model_weights.h5'\n",
    "WEIGHTS_PATH_POS = './facial_expression_recognition/pipeline_logs/pos/model_weights.h5'\n",
    "WEIGHTS_PATH_POSNEG = './facial_expression_recognition/pipeline_logs/posneg/model_weights.h5'\n",
    "\n",
    "out_size = 2\n",
    "model = utils.model(out_size)\n",
    "\n",
    "# Compile the model\n",
    "model.compile(loss = \"categorical_crossentropy\", optimizer = Adam(lr = 0.0001), metrics = ['accuracy'])\n",
    "\n",
    "# Load the saved weights\n",
    "model.load_weights(WEIGHTS_PATH_POSNEG)\n",
    "\n",
    "# Image for prediction\n",
    "image_path = './archive/test/angry/PrivateTest_14740105.jpg'\n",
    "image = Image.open(image_path).convert('L')                     # Convert image to grayscale\n",
    "image = image.resize((48, 48))                                  # Resize image to 48x48 pixels\n",
    "image_array = np.asarray(image).astype('float32') / 255.0       # Normalize to [0, 1]\n",
    "image_array = np.expand_dims(image_array, axis = [0, -1])       # Add batch and color channel dimensions\n",
    "\n",
    "# Prediction\n",
    "predictions = model.predict(image_array)\n",
    "\n",
    "# Output\n",
    "predicted_class = np.argmax(predictions[0])\n",
    "print(f\"Predicted class: {predicted_class}\")"
   ]
  },
  {
   "cell_type": "code",
   "execution_count": null,
   "id": "b700ee4f-7874-4563-9d0c-7ddeeca6e0e9",
   "metadata": {},
   "outputs": [],
   "source": []
  }
 ],
 "metadata": {
  "kernelspec": {
   "display_name": "Python 3 (ipykernel)",
   "language": "python",
   "name": "python3"
  },
  "language_info": {
   "codemirror_mode": {
    "name": "ipython",
    "version": 3
   },
   "file_extension": ".py",
   "mimetype": "text/x-python",
   "name": "python",
   "nbconvert_exporter": "python",
   "pygments_lexer": "ipython3",
   "version": "3.8.5"
  }
 },
 "nbformat": 4,
 "nbformat_minor": 5
}
